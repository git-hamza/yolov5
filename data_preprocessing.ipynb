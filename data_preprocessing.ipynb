{
 "cells": [
  {
   "cell_type": "markdown",
   "metadata": {},
   "source": [
    "### use this script for data spliting or if you want to merge new data with the previous one"
   ]
  },
  {
   "cell_type": "code",
   "execution_count": 1,
   "metadata": {},
   "outputs": [],
   "source": [
    "import os\n",
    "import splitfolders\n",
    "import shutil"
   ]
  },
  {
   "cell_type": "markdown",
   "metadata": {},
   "source": [
    "### preprocessing the new data"
   ]
  },
  {
   "cell_type": "code",
   "execution_count": 2,
   "metadata": {},
   "outputs": [],
   "source": [
    "new_data = \"new_training_data\"\n",
    "new_data_labels = os.path.join(new_data, \"labels\")\n",
    "new_data_images = os.path.join(new_data, \"images\")\n",
    "image_suffix = \"jpg\""
   ]
  },
  {
   "cell_type": "code",
   "execution_count": 3,
   "metadata": {},
   "outputs": [
    {
     "name": "stdout",
     "output_type": "stream",
     "text": [
      "37 37\n"
     ]
    },
    {
     "data": {
      "text/plain": [
       "[]"
      ]
     },
     "execution_count": 3,
     "metadata": {},
     "output_type": "execute_result"
    }
   ],
   "source": [
    "# check for missing image or missing txt and remove them\n",
    "\n",
    "txt_files = os.listdir(new_data_labels)\n",
    "txt_files = [f.split(\".\")[0] for f in txt_files if f.endswith(\"txt\")]\n",
    "\n",
    "images = os.listdir(new_data_images)\n",
    "images = [f.split(\".\")[0] for f in images if f.endswith(image_suffix)]\n",
    "\n",
    "print(len(txt_files), len(images))\n",
    "\n",
    "missing_txt_img__file = list(set(txt_files)-((set(images))))\n",
    "missing_txt_img__file"
   ]
  },
  {
   "cell_type": "code",
   "execution_count": 4,
   "metadata": {},
   "outputs": [
    {
     "name": "stdout",
     "output_type": "stream",
     "text": [
      "new_training_data/labels/ip700_CH1_frame_001330.txt\n"
     ]
    }
   ],
   "source": [
    "# check if txt is empty then remove the txt as well as image\n",
    "for file_ in txt_files:\n",
    "    txt_file = os.path.join(new_data_labels, f\"{file_}.txt\")\n",
    "    data = []\n",
    "    with open(txt_file,\"r\") as f:\n",
    "        line = f.read()\n",
    "        if line != '':\n",
    "            data.append(line)\n",
    "    if data == []:\n",
    "        print(txt_file)\n",
    "        img_file=os.path.join(new_data_images, f\"{file_}.{image_suffix}\")\n",
    "        os.remove(txt_file)\n",
    "        os.remove(img_file)"
   ]
  },
  {
   "cell_type": "markdown",
   "metadata": {},
   "source": [
    "### spliting the new data"
   ]
  },
  {
   "cell_type": "code",
   "execution_count": 5,
   "metadata": {},
   "outputs": [
    {
     "name": "stderr",
     "output_type": "stream",
     "text": [
      "Copying files: 72 files [00:00, 3145.76 files/s]\n"
     ]
    }
   ],
   "source": [
    "output = \"new_data_split\"\n",
    "splitfolders.ratio(new_data, output=\"new_data_split\", seed=1337, ratio=(.8, 0.1,0.1))\n",
    "new_data = output"
   ]
  },
  {
   "cell_type": "markdown",
   "metadata": {},
   "source": [
    "## Combine new data and the previous one downloaded from wandb"
   ]
  },
  {
   "cell_type": "code",
   "execution_count": 6,
   "metadata": {},
   "outputs": [],
   "source": [
    "previous_data = \"artifacts\"\n",
    "previous_data_paths = {\n",
    "    \"train\": os.path.join(previous_data, \"train:v0/data/\"), \n",
    "    \"val\": os.path.join(previous_data, \"val:v0/data/\"), \n",
    "    \"test\": os.path.join(previous_data, \"test:v0/data/\")\n",
    "}\n",
    "\n",
    "new_data_paths = {\n",
    "    \"train\": os.path.join(new_data, \"train\"),\n",
    "    \"val\": os.path.join(new_data, \"val\"),\n",
    "    \"test\": os.path.join(new_data, \"test\"),\n",
    "}"
   ]
  },
  {
   "cell_type": "markdown",
   "metadata": {},
   "source": [
    "## copy file to previous data, incase the name already exist, rename the new file"
   ]
  },
  {
   "cell_type": "code",
   "execution_count": 7,
   "metadata": {},
   "outputs": [
    {
     "name": "stdout",
     "output_type": "stream",
     "text": [
      "******** Processing train **************\n",
      "ip700_CH1_frame_001338 (copy).jpg is renamed.\n",
      "ip700_CH1_frame_001330 (copy).jpg is renamed.\n",
      "ip700_CH1_frame_001338 (3rd copy).jpg is renamed.\n",
      "ip700_CH1_frame_001331.jpg is renamed.\n",
      "ip700_CH1_frame_001333.jpg is renamed.\n",
      "ip700_CH1_frame_001334 (another copy).jpg is renamed.\n",
      "ip700_CH1_frame_001330 (3rd copy).jpg is renamed.\n",
      "ip700_CH1_frame_001335 (3rd copy).jpg is renamed.\n",
      "ip700_CH1_frame_001334 (3rd copy).jpg is renamed.\n",
      "ip700_CH1_frame_001337 (copy).jpg is renamed.\n",
      "ip700_CH1_frame_001332.jpg is renamed.\n",
      "ip700_CH1_frame_001332 (another copy).jpg is renamed.\n",
      "ip700_CH1_frame_001335 (another copy).jpg is renamed.\n",
      "ip700_CH1_frame_001332 (3rd copy).jpg is renamed.\n",
      "ip700_CH1_frame_001337.jpg is renamed.\n",
      "ip700_CH1_frame_001334.jpg is renamed.\n",
      "ip700_CH1_frame_001339.jpg is renamed.\n",
      "******** Processing val **************\n",
      "******** Processing test **************\n",
      "ip700_CH1_frame_001336 (copy).jpg is renamed.\n"
     ]
    }
   ],
   "source": [
    "for key_ in new_data_paths.keys():\n",
    "    print(f\"******** Processing {key_} **************\")\n",
    "    new_images_path = os.path.join(new_data_paths[key_], \"images\")\n",
    "    new_labels_path = os.path.join(new_data_paths[key_], \"labels\")\n",
    "    new_image_files = os.listdir(new_images_path)\n",
    "    new_label_files = os.listdir(new_labels_path)\n",
    "    previous_images_path = os.path.join(previous_data_paths[key_], \"images\")\n",
    "    previous_labels_path =os.path.join(previous_data_paths[key_], \"labels\")\n",
    "    previous_image_files =os.listdir(previous_images_path)\n",
    "    previous_labels_files =os.listdir(previous_labels_path)\n",
    "\n",
    "\n",
    "    for img_filename in new_image_files:\n",
    "        txt_filename = f\"{img_filename.split('.')[0]}.txt\"\n",
    "        curr_img = os.path.join(new_images_path, img_filename)\n",
    "        curr_txt = os.path.join(new_labels_path, txt_filename)\n",
    "        if img_filename in previous_image_files:\n",
    "            print(f\"{img_filename} is renamed.\")\n",
    "            new_img = os.path.join(previous_images_path, f\"{img_filename.split('.')[0]}_1.{img_filename.split('.')[-1]}\")\n",
    "            new_txt = os.path.join(previous_labels_path, f\"{txt_filename.split('.')[0]}_1.{txt_filename.split('.')[-1]}\")\n",
    "            shutil.copy(curr_img, new_img)\n",
    "            shutil.copy(curr_txt, new_txt)\n",
    "        else:\n",
    "            shutil.copy(curr_img, os.path.join(previous_images_path, img_filename))\n",
    "            shutil.copy(curr_txt, os.path.join(previous_labels_path, txt_filename))"
   ]
  },
  {
   "cell_type": "code",
   "execution_count": null,
   "metadata": {},
   "outputs": [],
   "source": []
  }
 ],
 "metadata": {
  "kernelspec": {
   "display_name": "Python 3 (ipykernel)",
   "language": "python",
   "name": "python3"
  },
  "language_info": {
   "codemirror_mode": {
    "name": "ipython",
    "version": 3
   },
   "file_extension": ".py",
   "mimetype": "text/x-python",
   "name": "python",
   "nbconvert_exporter": "python",
   "pygments_lexer": "ipython3",
   "version": "3.8.10"
  }
 },
 "nbformat": 4,
 "nbformat_minor": 1
}
